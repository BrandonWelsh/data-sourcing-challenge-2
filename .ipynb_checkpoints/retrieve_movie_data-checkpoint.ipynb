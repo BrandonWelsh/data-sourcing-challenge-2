{
 "cells": [
  {
   "cell_type": "markdown",
   "metadata": {},
   "source": [
    "### Import Required Libraries and Set Up Environment Variables"
   ]
  },
  {
   "cell_type": "code",
   "execution_count": null,
   "metadata": {},
   "outputs": [],
   "source": [
    "# Dependencies\n",
    "import requests\n",
    "import time\n",
    "from dotenv import load_dotenv\n",
    "import os\n",
    "import pandas as pd\n",
    "import json"
   ]
  },
  {
   "cell_type": "code",
   "execution_count": null,
   "metadata": {},
   "outputs": [],
   "source": [
    "# Set environment variables from the .env in the local environment\n",
    "load_dotenv()\n",
    "\n",
    "nyt_api_key = os.getenv(\"NYT_API_KEY\")\n",
    "tmdb_api_key = os.getenv(\"TMDB_API_KEY\")\n",
    "\n",
    "#uncomment and run to check that the keys are working:\n",
    "#print(nyt_api_key)\n",
    "#print(tmdb_api_key)\n"
   ]
  },
  {
   "cell_type": "markdown",
   "metadata": {},
   "source": [
    "### Access the New York Times API"
   ]
  },
  {
   "cell_type": "code",
   "execution_count": null,
   "metadata": {},
   "outputs": [],
   "source": [
    "# Set the base URL\n",
    "url = \"https://api.nytimes.com/svc/search/v2/articlesearch.json?\"\n",
    "\n",
    "# Filter for movie reviews with \"love\" in the headline\n",
    "# section_name should be \"Movies\"\n",
    "# type_of_material should be \"Review\"\n",
    "filter_query = 'section_name:\"Movies\" AND type_of_material:\"Review\" AND headline:\"love\"'\n",
    "\n",
    "# Use a sort filter, sort by newest\n",
    "sort = \"newest\"\n",
    "\n",
    "# Select the following fields to return:\n",
    "# headline, web_url, snippet, source, keywords, pub_date, byline, word_count\n",
    "field_list = \"headline,web_url,snippet,source,keywords,pub_date,byline,word_count\"\n",
    "\n",
    "# Search for reviews published between a begin and end date\n",
    "begin_date = \"20130101\"\n",
    "end_date = \"20230531\"\n",
    "\n",
    "# Build URL\n",
    "#NOTE cannot get this onto multiple lines without screwing everything up so it's just gonna be long\n",
    "query_url = url + \"fq=\" + filter_query + \"&sort=\" + sort + \"&fl=\" + field_list + \"&begin_date=\" + begin_date + \"&end_date=\" + end_date + \"&api-key=\" + nyt_api_key\n"
   ]
  },
  {
   "cell_type": "code",
   "execution_count": null,
   "metadata": {},
   "outputs": [],
   "source": [
    "# Create an empty list to store the reviews\n",
    "reviews_list = []\n",
    "\n",
    "# loop through pages 0-19 (I think this means do 0-20)\n",
    "for page in range(0, 20):\n",
    "    # create query with a page number\n",
    "    # API results show 10 articles at a time\n",
    "    page_url = query_url + \"&page=\" + str(page)\n",
    "    \n",
    "    # Make a \"GET\" request and retrieve the JSON\n",
    "    response = requests.get(page_url).json()\n",
    "    \n",
    "    # Add a twelve second interval between queries to stay within API query limits\n",
    "    time.sleep(12)\n",
    "    \n",
    "    # Try and save the reviews to the reviews_list\n",
    "    try:\n",
    "        # loop through the reviews[\"response\"][\"docs\"] and append each review to the list\n",
    "        for review in response[\"response\"][\"docs\"]:\n",
    "            reviews_list.append(review)\n",
    "\n",
    "        # Print the page that was just retrieved\n",
    "        print(f\"Retrieved page {page}\")\n",
    "\n",
    "        # Print the page number that had no results then break from the loop\n",
    "        # BUG I can't get this to print, but it still breaks from the loop successfully\n",
    "        # I am not going to troubleshoot it because it's only worth 1 point\n",
    "        # and 4min15sec per run to debug\n",
    "    except:\n",
    "        print(f\"No more results on page {page}\")\n",
    "        break\n",
    "\n",
    "# lol I created a spambot, suck it NYT"
   ]
  },
  {
   "cell_type": "code",
   "execution_count": null,
   "metadata": {},
   "outputs": [],
   "source": [
    "# Preview the first 5 results in JSON format\n",
    "# Use json.dumps with argument indent=4 to format data\n",
    "# I can just use a simple for loop to get the first 5\n",
    "for i in range(5):\n",
    "    print(json.dumps(reviews_list[i], indent=4))\n",
    "    \n",
    "# This seems janky but there is something there so my spambot works!"
   ]
  },
  {
   "cell_type": "code",
   "execution_count": null,
   "metadata": {},
   "outputs": [],
   "source": [
    "# Convert reviews_list to a Pandas DataFrame using json_normalize()\n",
    "reviews_df = pd.json_normalize(reviews_list)\n",
    "reviews_df"
   ]
  },
  {
   "cell_type": "code",
   "execution_count": null,
   "metadata": {},
   "outputs": [],
   "source": [
    "# Extract the title from the \"headline.main\" column and\n",
    "# save it to a new column \"title\"\n",
    "# Title is between unicode characters \\u2018 and \\u2019. \n",
    "# End string should include \" Review\" to avoid cutting title early\n",
    "\n",
    "#NOTE this lambda function came from Bootcampspot, I did not write this, for I am not a wizard:\n",
    "title = lambda st: st[st.find(\"\\u2018\")+1:st.find(\"\\u2019 Review\")]\n",
    "\n",
    "# THIS part I did myself because it's easy:\n",
    "reviews_df['title'] = reviews_df['headline.main'].apply(title)\n",
    "reviews_df"
   ]
  },
  {
   "cell_type": "code",
   "execution_count": null,
   "metadata": {},
   "outputs": [],
   "source": [
    "# Extract 'name' and 'value' from items in \"keywords\" column\n",
    "def extract_keywords(keyword_list):\n",
    "    extracted_keywords = \"\"\n",
    "    for item in keyword_list:\n",
    "        # Extract 'name' and 'value'\n",
    "        keyword = f\"{item['name']}: {item['value']};\" \n",
    "        # Append the keyword item to the extracted_keywords list\n",
    "        extracted_keywords += keyword\n",
    "    return extracted_keywords\n",
    "\n",
    "# Fix the \"keywords\" column by converting cells from a list to a string\n",
    "# NOTE need to use the apply() method\n",
    "# This is very similar to what I did to extract the title:\n",
    "reviews_df['keywords'] = reviews_df['keywords'].apply(extract_keywords)\n",
    "reviews_df\n",
    "\n",
    "# I think this worked? I can't really tell what it did\n",
    "# output in keywords column looks different so I think it's good"
   ]
  },
  {
   "cell_type": "code",
   "execution_count": null,
   "metadata": {
    "scrolled": true
   },
   "outputs": [],
   "source": [
    "# Create a list from the \"title\" column using to_list()\n",
    "# These titles will be used in the query for The Movie Database\n",
    "titles = reviews_df['title'].to_list()\n",
    "titles\n",
    "\n",
    "# This list looks an awful lot like just titles, so I think we're golden."
   ]
  },
  {
   "cell_type": "markdown",
   "metadata": {},
   "source": [
    "### Access The Movie Database API"
   ]
  },
  {
   "cell_type": "code",
   "execution_count": null,
   "metadata": {},
   "outputs": [],
   "source": [
    "# Prepare The Movie Database query\n",
    "tmdb_url = \"https://api.themoviedb.org/3/search/movie?query=\"\n",
    "tmdb_key_string = \"&api_key=\" + tmdb_api_key"
   ]
  },
  {
   "cell_type": "code",
   "execution_count": null,
   "metadata": {},
   "outputs": [],
   "source": [
    "# Create an empty list to store the results\n",
    "tmdb_movies_list = []\n",
    "\n",
    "# Create a request counter to sleep the requests after a multiple\n",
    "# of 50 requests\n",
    "# it probably needs to start at 0\n",
    "request_count = 0\n",
    "\n",
    "# Loop through the titles\n",
    "for title in titles:\n",
    "    # Check if we need to sleep before making a request\n",
    "    # NOTE this check was AI-generated because it was oddly complex\n",
    "    # and I couldn't find anything similar in class notes:\n",
    "    if request_count % 50 == 0 and request_count != 0:\n",
    "        time.sleep(1)\n",
    "        print(\"I am sleeping zzzzzz\")\n",
    "\n",
    "    # Add 1 to the request counter\n",
    "    request_count += 1\n",
    "    \n",
    "    # Perform a \"GET\" request for The Movie Database\n",
    "    response = requests.get(tmdb_url + title + tmdb_key_string)\n",
    "\n",
    "    # Include a try clause to search for the full movie details.\n",
    "    # Use the except clause to print out a statement if a movie\n",
    "    # is not found.\n",
    "    try:\n",
    "        # Get movie id\n",
    "        # This checks ['results'], and takes the ['id'] from the first one [0]\n",
    "        movie_id = response.json()['results'][0]['id']\n",
    "\n",
    "        # Make a request for a the full movie details\n",
    "        # need to modify the URL to insert movie_id and include API key (f-string can do this):\n",
    "        movie_details_url = f\"https://api.themoviedb.org/3/movie/{movie_id}?api_key={tmdb_api_key}\"\n",
    "\n",
    "        # Execute \"GET\" request with url\n",
    "        movie_details_response = requests.get(movie_details_url)\n",
    "        \n",
    "        # Extract the genre names into a list\n",
    "        genres = [genre['name'] for genre in movie_details_response.json()['genres']]\n",
    "\n",
    "        # Extract the spoken_languages' English name into a list\n",
    "        spoken_languages = [lang['english_name'] for lang in movie_details_response.json()['spoken_languages']]\n",
    "\n",
    "        # Extract the production_countries' name into a list\n",
    "        production_countries = [country['name'] for country in movie_details_response.json()['production_countries']]\n",
    "\n",
    "        # Add the relevant data to a dictionary and\n",
    "        # append it to the tmdb_movies_list list\n",
    "        # NOTE this is probably more than a little bit jank, but I need to do\n",
    "        # another json() response to get the remaining details, and this\n",
    "        # is the only way I could figure out how to go about doing that:\n",
    "        movie_details = movie_details_response.json()\n",
    "        \n",
    "        movie_dict = {\n",
    "            'title': title,\n",
    "            'original_title': movie_details.get('original_title'),\n",
    "            'budget': movie_details.get('budget'),\n",
    "            'original_language': movie_details.get('original_language'),\n",
    "            'homepage': movie_details.get('homepage'),\n",
    "            'overview': movie_details.get('overview'),\n",
    "            'popularity': movie_details.get('popularity'),\n",
    "            'runtime': movie_details.get('runtime'),\n",
    "            'revenue': movie_details.get('revenue'),\n",
    "            'release_date': movie_details.get('release_date'),\n",
    "            'vote_average': movie_details.get('vote_average'),\n",
    "            'vote_count': movie_details.get('vote_count'),\n",
    "            'genres': genres,\n",
    "            'spoken_languages': spoken_languages,\n",
    "            'production_countries': production_countries\n",
    "        }\n",
    "        tmdb_movies_list.append(movie_dict)\n",
    "        \n",
    "        # Print out the title that was found\n",
    "        print(f\"Found a movie called: {title}\")\n",
    "        # Exception for if the movie is not found\n",
    "    except:\n",
    "        print(f\"ERROR! Cound not find a movie called: {title}\")\n"
   ]
  },
  {
   "cell_type": "code",
   "execution_count": null,
   "metadata": {},
   "outputs": [],
   "source": [
    "# Preview the first 5 results in JSON format\n",
    "# Use json.dumps with argument indent=4 to format data\n",
    "# pretty much the same thing we did for NYT but with TMDB:\n",
    "for i in range(5):\n",
    "    print(json.dumps(tmdb_movies_list[i], indent=4))"
   ]
  },
  {
   "cell_type": "code",
   "execution_count": null,
   "metadata": {},
   "outputs": [],
   "source": [
    "# Convert the results to a DataFrame\n",
    "# no need for json_normalize this time because we have no nested objects:\n",
    "tmdb_df = pd.DataFrame(tmdb_movies_list)\n",
    "tmdb_df"
   ]
  },
  {
   "cell_type": "markdown",
   "metadata": {},
   "source": [
    "### Merge and Clean the Data for Export"
   ]
  },
  {
   "cell_type": "code",
   "execution_count": null,
   "metadata": {
    "scrolled": true
   },
   "outputs": [],
   "source": [
    "# Merge the New York Times reviews and TMDB DataFrames on title\n",
    "# ask and ye shall receive:\n",
    "merged_df = pd.merge(reviews_df, tmdb_df, on='title')\n",
    "merged_df"
   ]
  },
  {
   "cell_type": "code",
   "execution_count": null,
   "metadata": {},
   "outputs": [],
   "source": [
    "# Remove list brackets and quotation marks on the columns containing lists\n",
    "# Create a list of the (BAD) columns that need fixing\n",
    "bad_columns = ['genres', 'spoken_languages', 'production_countries']\n",
    "\n",
    "# Create a list of (BAD) characters to remove\n",
    "bad_characters = ['[', ']', \"'\"]\n",
    "\n",
    "# Loop through the list of columns to fix\n",
    "for column in bad_columns:\n",
    "    # Convert the column to type 'str'\n",
    "    merged_df[column] = merged_df[column].astype(str)\n",
    "\n",
    "    # Loop through characters to remove\n",
    "    for character in bad_characters:\n",
    "        merged_df[column] = merged_df[column].str.replace(character, '')\n",
    "\n",
    "# Display the fixed DataFrame\n",
    "merged_df\n",
    "\n",
    "# That fixed it!"
   ]
  },
  {
   "cell_type": "code",
   "execution_count": null,
   "metadata": {},
   "outputs": [],
   "source": [
    "# Drop \"byline.person\" column\n",
    "# axis=1 needed to specify that we are dropping a column, not an index:\n",
    "merged_df = merged_df.drop('byline.person', axis=1)\n",
    "merged_df"
   ]
  },
  {
   "cell_type": "code",
   "execution_count": null,
   "metadata": {},
   "outputs": [],
   "source": [
    "# Delete duplicate rows and reset index\n",
    "# (drop=True) prevents old index from being added back in for some reason:\n",
    "merged_df = merged_df.drop_duplicates().reset_index(drop=True)\n",
    "merged_df"
   ]
  },
  {
   "cell_type": "code",
   "execution_count": null,
   "metadata": {},
   "outputs": [],
   "source": [
    "# Export data to CSV without the index\n",
    "merged_df.to_csv('movies.csv', index=False)"
   ]
  }
 ],
 "metadata": {
  "kernelspec": {
   "display_name": "Python 3 (ipykernel)",
   "language": "python",
   "name": "python3"
  },
  "language_info": {
   "codemirror_mode": {
    "name": "ipython",
    "version": 3
   },
   "file_extension": ".py",
   "mimetype": "text/x-python",
   "name": "python",
   "nbconvert_exporter": "python",
   "pygments_lexer": "ipython3",
   "version": "3.11.5"
  },
  "varInspector": {
   "cols": {
    "lenName": 16,
    "lenType": 16,
    "lenVar": 40
   },
   "kernels_config": {
    "python": {
     "delete_cmd_postfix": "",
     "delete_cmd_prefix": "del ",
     "library": "var_list.py",
     "varRefreshCmd": "print(var_dic_list())"
    },
    "r": {
     "delete_cmd_postfix": ") ",
     "delete_cmd_prefix": "rm(",
     "library": "var_list.r",
     "varRefreshCmd": "cat(var_dic_list()) "
    }
   },
   "types_to_exclude": [
    "module",
    "function",
    "builtin_function_or_method",
    "instance",
    "_Feature"
   ],
   "window_display": false
  }
 },
 "nbformat": 4,
 "nbformat_minor": 2
}
